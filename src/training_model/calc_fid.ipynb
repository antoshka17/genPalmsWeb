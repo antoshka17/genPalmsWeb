{
 "cells": [
  {
   "cell_type": "code",
   "execution_count": null,
   "id": "bee3f93c",
   "metadata": {},
   "outputs": [
    {
     "name": "stderr",
     "output_type": "stream",
     "text": [
      " 99%|████████████████████████████████████████▍| 219/222 [03:44<00:03,  1.03s/it]"
     ]
    }
   ],
   "source": [
    "import os\n",
    "import subprocess\n",
    "import torch\n",
    "from torchvision import datasets, transforms\n",
    "from pytorch_fid import fid_score\n",
    "\n",
    "# Определяем пути к директориям с изображениями\n",
    "path_real_images = 'archive/Hands/Hands'\n",
    "path_generated_images = 'generated'\n",
    "\n",
    "# Если изображения находятся в PyTorch Dataset, их можно сохранить с использованием DataLoader\n",
    "def save_images_from_dataloader(dataloader, save_path):\n",
    "    if not os.path.exists(save_path):\n",
    "        os.makedirs(save_path)\n",
    "    for i, (images, _) in enumerate(dataloader):\n",
    "        for j in range(images.size(0)):\n",
    "            image = transforms.ToPILImage()(images[j])\n",
    "            image.save(os.path.join(save_path, f'image_{i * dataloader.batch_size + j}.png'))\n",
    "\n",
    "# Пример использования с PyTorch DataLoader\n",
    "# dataset_real = datasets.ImageFolder(root='path/to/real/dataset', transform=transforms.Compose([transforms.Resize((299, 299)), transforms.ToTensor()]))\n",
    "# dataloader_real = torch.utils.data.DataLoader(dataset_real, batch_size=32, shuffle=False)\n",
    "# save_images_from_dataloader(dataloader_real, path_real_images)\n",
    "\n",
    "# dataset_generated = datasets.ImageFolder(root='path/to/generated/dataset', transform=transforms.Compose([transforms.Resize((299, 299)), transforms.ToTensor()]))\n",
    "# dataloader_generated = torch.utils.data.DataLoader(dataset_generated, batch_size=32, shuffle=False)\n",
    "# save_images_from_dataloader(dataloader_generated, path_generated_images)\n",
    "\n",
    "# Рассчитываем FID\n",
    "fid_value = fid_score.calculate_fid_given_paths([path_real_images, path_generated_images], batch_size=50, device=torch.device('cuda' if torch.cuda.is_available() else 'cpu'), dims=2048)\n",
    "print(f'FID: {fid_value}')\n"
   ]
  },
  {
   "cell_type": "code",
   "execution_count": null,
   "id": "0d881876",
   "metadata": {},
   "outputs": [],
   "source": []
  }
 ],
 "metadata": {
  "kernelspec": {
   "display_name": "Python 3 (ipykernel)",
   "language": "python",
   "name": "python3"
  },
  "language_info": {
   "codemirror_mode": {
    "name": "ipython",
    "version": 3
   },
   "file_extension": ".py",
   "mimetype": "text/x-python",
   "name": "python",
   "nbconvert_exporter": "python",
   "pygments_lexer": "ipython3",
   "version": "3.11.5"
  }
 },
 "nbformat": 4,
 "nbformat_minor": 5
}
