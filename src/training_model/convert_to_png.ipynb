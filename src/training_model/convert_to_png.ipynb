{
 "cells": [
  {
   "cell_type": "code",
   "execution_count": 4,
   "id": "a8761257",
   "metadata": {},
   "outputs": [],
   "source": [
    "import os \n",
    "from pathlib import Path\n",
    "import cv2\n",
    "import numpy as np\n",
    "from tqdm import tqdm"
   ]
  },
  {
   "cell_type": "code",
   "execution_count": 5,
   "id": "cf9dd866",
   "metadata": {},
   "outputs": [
    {
     "name": "stderr",
     "output_type": "stream",
     "text": [
      "100%|█████████████████████████████████████| 11076/11076 [04:12<00:00, 43.91it/s]\n"
     ]
    }
   ],
   "source": [
    "ds_path = 'archive/Hands/Hands'\n",
    "new_ds_path = 'archive/Hands/HandsPng'\n",
    "\n",
    "if not Path(new_ds_path).exists():\n",
    "    os.mkdir(new_ds_path)\n",
    "\n",
    "for file in tqdm(os.listdir(ds_path)):\n",
    "    img = cv2.imread(os.path.join(ds_path, file))\n",
    "    cv2.imwrite(os.path.join(new_ds_path, file[:-4] + '.png'), img)"
   ]
  },
  {
   "cell_type": "code",
   "execution_count": null,
   "id": "feb8c4d9",
   "metadata": {},
   "outputs": [],
   "source": []
  }
 ],
 "metadata": {
  "kernelspec": {
   "display_name": "Python 3 (ipykernel)",
   "language": "python",
   "name": "python3"
  },
  "language_info": {
   "codemirror_mode": {
    "name": "ipython",
    "version": 3
   },
   "file_extension": ".py",
   "mimetype": "text/x-python",
   "name": "python",
   "nbconvert_exporter": "python",
   "pygments_lexer": "ipython3",
   "version": "3.11.5"
  }
 },
 "nbformat": 4,
 "nbformat_minor": 5
}
